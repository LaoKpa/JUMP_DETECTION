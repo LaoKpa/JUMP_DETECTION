{
 "cells": [
  {
   "cell_type": "code",
   "execution_count": 5,
   "metadata": {
    "colab": {},
    "colab_type": "code",
    "id": "72carNZvy-yb"
   },
   "outputs": [],
   "source": [
    "import pandas as pd\n",
    "import numpy as np\n",
    "import datetime as dt\n"
   ]
  },
  {
   "cell_type": "code",
   "execution_count": 4,
   "metadata": {
    "colab": {
     "base_uri": "https://localhost:8080/",
     "height": 72
    },
    "colab_type": "code",
    "executionInfo": {
     "elapsed": 92689,
     "status": "ok",
     "timestamp": 1589409791582,
     "user": {
      "displayName": "Guillaume Delorme",
      "photoUrl": "",
      "userId": "01286189508772622119"
     },
     "user_tz": 240
    },
    "id": "AurChWvPLwxH",
    "outputId": "017d4a88-85e6-4773-f726-2359bed015d9"
   },
   "outputs": [
    {
     "name": "stderr",
     "output_type": "stream",
     "text": [
      "WARNING: You are using pip version 20.0.2; however, version 20.1.1 is available.\n",
      "You should consider upgrading via the 'c:\\users\\naman\\appdata\\local\\programs\\python\\python36\\python.exe -m pip install --upgrade pip' command.\n"
     ]
    },
    {
     "ename": "ModuleNotFoundError",
     "evalue": "No module named 'google.colab'",
     "output_type": "error",
     "traceback": [
      "\u001b[1;31m---------------------------------------------------------------------------\u001b[0m",
      "\u001b[1;31mModuleNotFoundError\u001b[0m                       Traceback (most recent call last)",
      "\u001b[1;32m<ipython-input-4-5df8f3ee8a7d>\u001b[0m in \u001b[0;36m<module>\u001b[1;34m\u001b[0m\n\u001b[0;32m      2\u001b[0m \u001b[1;32mfrom\u001b[0m \u001b[0mpydrive\u001b[0m\u001b[1;33m.\u001b[0m\u001b[0mauth\u001b[0m \u001b[1;32mimport\u001b[0m \u001b[0mGoogleAuth\u001b[0m\u001b[1;33m\u001b[0m\u001b[0m\n\u001b[0;32m      3\u001b[0m \u001b[1;32mfrom\u001b[0m \u001b[0mpydrive\u001b[0m\u001b[1;33m.\u001b[0m\u001b[0mdrive\u001b[0m \u001b[1;32mimport\u001b[0m \u001b[0mGoogleDrive\u001b[0m\u001b[1;33m\u001b[0m\u001b[0m\n\u001b[1;32m----> 4\u001b[1;33m \u001b[1;32mfrom\u001b[0m \u001b[0mgoogle\u001b[0m\u001b[1;33m.\u001b[0m\u001b[0mcolab\u001b[0m \u001b[1;32mimport\u001b[0m \u001b[0mauth\u001b[0m\u001b[1;33m\u001b[0m\u001b[0m\n\u001b[0m\u001b[0;32m      5\u001b[0m \u001b[1;32mfrom\u001b[0m \u001b[0moauth2client\u001b[0m\u001b[1;33m.\u001b[0m\u001b[0mclient\u001b[0m \u001b[1;32mimport\u001b[0m \u001b[0mGoogleCredentials\u001b[0m\u001b[1;33m\u001b[0m\u001b[0m\n\u001b[0;32m      6\u001b[0m \u001b[1;31m# Authenticate and create the PyDrive client.\u001b[0m\u001b[1;33m\u001b[0m\u001b[1;33m\u001b[0m\u001b[0m\n",
      "\u001b[1;31mModuleNotFoundError\u001b[0m: No module named 'google.colab'"
     ]
    }
   ],
   "source": [
    "!pip install -U -q PyDrive\n",
    "from pydrive.auth import GoogleAuth\n",
    "from pydrive.drive import GoogleDrive\n",
    "from google.colab import auth\n",
    "from oauth2client.client import GoogleCredentials\n",
    "# Authenticate and create the PyDrive client.\n",
    "auth.authenticate_user()\n",
    "gauth = GoogleAuth()\n",
    "gauth.credentials = GoogleCredentials.get_application_default()\n",
    "drive = GoogleDrive(gauth)\n",
    "\n",
    "\n",
    "link=\"https://drive.google.com/open?id=1tAIcp18-PMaVJku8nkmcqURdIkwyXRWI\"\n",
    "_,id=link.split(\"=\")\n",
    "downloaded = drive.CreateFile({'id':id}) \n",
    "downloaded.GetContentFile('quote.csv')  \n",
    "data=pd.read_csv('quote.csv')[['DATE','TIME_M','BID','BIDSIZ','ASK','ASKSIZ']]\n",
    "data['TIME_M']=data['TIME_M'].apply(lambda x: x[:-10])\n"
   ]
  },
  {
   "cell_type": "code",
   "execution_count": 0,
   "metadata": {
    "colab": {},
    "colab_type": "code",
    "id": "k7obNFZoy-yj"
   },
   "outputs": [],
   "source": [
    "# import quote data\n",
    "# data=pd.read_csv('raw_data/quote.csv')[['DATE','TIME_M','BID','BIDSIZ','ASK','ASKSIZ']]\n",
    "# data['TIME_M']=data['TIME_M'].apply(lambda x: x[:-10])"
   ]
  },
  {
   "cell_type": "code",
   "execution_count": 0,
   "metadata": {
    "colab": {},
    "colab_type": "code",
    "id": "ixWALKrdy-yr"
   },
   "outputs": [],
   "source": []
  },
  {
   "cell_type": "code",
   "execution_count": null,
   "metadata": {
    "colab": {
     "base_uri": "https://localhost:8080/",
     "height": 414
    },
    "colab_type": "code",
    "executionInfo": {
     "elapsed": 948200,
     "status": "error",
     "timestamp": 1589410739787,
     "user": {
      "displayName": "Guillaume Delorme",
      "photoUrl": "",
      "userId": "01286189508772622119"
     },
     "user_tz": 240
    },
    "id": "1csewzj4y-yx",
    "outputId": "706bdc66-64df-4195-b138-c2549264e5bb"
   },
   "outputs": [],
   "source": [
    "# data cleaning\n",
    "ASK=data.groupby(['DATE','TIME_M']).apply(lambda grp: grp.groupby('ASK')['ASKSIZ'].sum().reset_index())\n",
    "print(1)\n",
    "ASK=ASK[ASK['ASKSIZ']>=10]\n",
    "ASKg=ASK.groupby(['DATE','TIME_M'])\n",
    "print(2)\n",
    "BID=data.groupby(['DATE','TIME_M']).apply(lambda grp: grp.groupby('BID')['BIDSIZ'].sum().reset_index())\n",
    "print(3)\n",
    "BID=BID[BID['BIDSIZ']>=10]\n",
    "BIDg=BID.groupby(['DATE','TIME_M'])"
   ]
  },
  {
   "cell_type": "code",
   "execution_count": 0,
   "metadata": {
    "colab": {},
    "colab_type": "code",
    "id": "opH9g0Wuy-y1"
   },
   "outputs": [],
   "source": [
    "import pickle\n",
    "# pickle.dump(ASK, open( \"clean_data/ASK.p\", \"wb\" ) )\n",
    "# pickle.dump(BID, open( \"clean_data/BID.p\", \"wb\" ) )\n",
    "# pickle.dump(ASKg, open( \"clean_data/ASKg.p\", \"wb\" ) )\n",
    "# pickle.dump(BIDg, open( \"clean_data/BIDg.p\", \"wb\" ) )\n",
    "\n",
    "ASK=pickle.load(open(\"clean_data/ASK.p\",'rb'))\n",
    "BID=pickle.load(open(\"clean_data/BID.p\",'rb'))\n",
    "ASKg=pickle.load(open(\"clean_data/ASKg.p\",'rb'))\n",
    "BIDg=pickle.load(open(\"clean_data/BIDg.p\",'rb'))\n",
    "\n"
   ]
  },
  {
   "cell_type": "code",
   "execution_count": 0,
   "metadata": {
    "colab": {},
    "colab_type": "code",
    "id": "B6O8Uospy-y7"
   },
   "outputs": [],
   "source": [
    "# feature generating\n",
    "X=pd.DataFrame()\n",
    "X['ask_bid_ratio']=((ASKg['ASKSIZ'].sum()-BIDg['BIDSIZ'].sum()) /BIDg['BIDSIZ'].sum()).dropna()\n",
    "X['ask_bid_spread']=((ASKg['ASK'].mean()-BIDg['BID'].mean()) /BIDg['BID'].mean()).dropna()\n",
    "X['time']=(pd.to_datetime(X.index.get_level_values(1),format='%H:%M:%S')-dt.datetime(1900,1,1,9,30)).total_seconds()/(3600*6.5)\n",
    "\n",
    "va_ask_mean=(ASK['ASK']*ASK['ASKSIZ']).groupby(['DATE','TIME_M']).sum()/ASKg['ASKSIZ'].sum()\n",
    "va_bid_mean=(BID['BID']*BID['BIDSIZ']).groupby(['DATE','TIME_M']).sum()/BIDg['BIDSIZ'].sum()\n",
    "X['ask_skew']=(va_ask_mean-ASKg['ASK'].mean())/ASKg['ASK'].mean()\n",
    "X['bid_skew']=(va_bid_mean-BIDg['BID'].mean())/BIDg['BID'].mean()"
   ]
  },
  {
   "cell_type": "code",
   "execution_count": 0,
   "metadata": {
    "colab": {},
    "colab_type": "code",
    "id": "xHeLud7Jy-zA"
   },
   "outputs": [],
   "source": []
  },
  {
   "cell_type": "code",
   "execution_count": 0,
   "metadata": {
    "colab": {},
    "colab_type": "code",
    "id": "7NJcs6Wyy-zF"
   },
   "outputs": [],
   "source": [
    "# import trade data\n",
    "link=\"https://drive.google.com/open?id=1Vev9OAKiRjEfadwIcVMNvsK8dRMaJlvk\"\n",
    "_,id=link.split(\"=\")\n",
    "downloaded = drive.CreateFile({'id':id}) \n",
    "downloaded.GetContentFile('trade.csv')  \n",
    "data=pd.read_csv(trade.csv')[['DATE','TIME_M','PRICE','SIZE']]\n",
    "data['TIME_M']=data['TIME_M'].apply(lambda x: x[:-10])"
   ]
  },
  {
   "cell_type": "code",
   "execution_count": 0,
   "metadata": {
    "colab": {},
    "colab_type": "code",
    "id": "v4fLwqczy-zK"
   },
   "outputs": [],
   "source": [
    "#data cleaning, compute volume weighted price\n",
    "data['amt']=data['SIZE']*data['PRICE']\n",
    "prices=data.groupby(['DATE','TIME_M'])['amt'].sum()/data.groupby(['DATE','TIME_M'])['SIZE'].sum()"
   ]
  },
  {
   "cell_type": "code",
   "execution_count": 0,
   "metadata": {
    "colab": {},
    "colab_type": "code",
    "id": "GxW-aWFNy-zP"
   },
   "outputs": [],
   "source": [
    "# generate Y\n",
    "Y=pd.DataFrame({'jump': 1*(abs(prices.diff())>(2*prices.rolling(3600).std()))})"
   ]
  },
  {
   "cell_type": "code",
   "execution_count": 0,
   "metadata": {
    "colab": {},
    "colab_type": "code",
    "id": "s3WRElpwy-zS"
   },
   "outputs": [],
   "source": []
  },
  {
   "cell_type": "code",
   "execution_count": 0,
   "metadata": {
    "colab": {},
    "colab_type": "code",
    "id": "AvZWCrJTy-zW"
   },
   "outputs": [],
   "source": [
    "df=X.merge(Y,left_index=True, right_index=True)"
   ]
  },
  {
   "cell_type": "code",
   "execution_count": 0,
   "metadata": {
    "colab": {},
    "colab_type": "code",
    "id": "8Mjzg2r1y-zZ",
    "outputId": "7d028e36-02d3-45fd-edb3-38f89f49dbdb"
   },
   "outputs": [
    {
     "data": {
      "text/html": [
       "<div>\n",
       "<style scoped>\n",
       "    .dataframe tbody tr th:only-of-type {\n",
       "        vertical-align: middle;\n",
       "    }\n",
       "\n",
       "    .dataframe tbody tr th {\n",
       "        vertical-align: top;\n",
       "    }\n",
       "\n",
       "    .dataframe thead th {\n",
       "        text-align: right;\n",
       "    }\n",
       "</style>\n",
       "<table border=\"1\" class=\"dataframe\">\n",
       "  <thead>\n",
       "    <tr style=\"text-align: right;\">\n",
       "      <th></th>\n",
       "      <th></th>\n",
       "      <th>ask_bid_ratio</th>\n",
       "      <th>ask_bid_spread</th>\n",
       "      <th>time</th>\n",
       "      <th>ask_skew</th>\n",
       "      <th>bid_skew</th>\n",
       "      <th>jump</th>\n",
       "      <th>jump_lag_1</th>\n",
       "    </tr>\n",
       "    <tr>\n",
       "      <th>DATE</th>\n",
       "      <th>TIME_M</th>\n",
       "      <th></th>\n",
       "      <th></th>\n",
       "      <th></th>\n",
       "      <th></th>\n",
       "      <th></th>\n",
       "      <th></th>\n",
       "      <th></th>\n",
       "    </tr>\n",
       "  </thead>\n",
       "  <tbody>\n",
       "    <tr>\n",
       "      <td rowspan=\"5\" valign=\"top\">20200102</td>\n",
       "      <td>10:00:00</td>\n",
       "      <td>-0.128755</td>\n",
       "      <td>0.134638</td>\n",
       "      <td>0.076923</td>\n",
       "      <td>-0.000002</td>\n",
       "      <td>0.108434</td>\n",
       "      <td>0</td>\n",
       "      <td>0.0</td>\n",
       "    </tr>\n",
       "    <tr>\n",
       "      <td>10:00:01</td>\n",
       "      <td>0.022901</td>\n",
       "      <td>0.134638</td>\n",
       "      <td>0.076966</td>\n",
       "      <td>-0.000006</td>\n",
       "      <td>0.088216</td>\n",
       "      <td>0</td>\n",
       "      <td>0.0</td>\n",
       "    </tr>\n",
       "    <tr>\n",
       "      <td>10:00:02</td>\n",
       "      <td>-0.292308</td>\n",
       "      <td>0.134638</td>\n",
       "      <td>0.077009</td>\n",
       "      <td>0.000011</td>\n",
       "      <td>0.041348</td>\n",
       "      <td>0</td>\n",
       "      <td>0.0</td>\n",
       "    </tr>\n",
       "    <tr>\n",
       "      <td>10:00:03</td>\n",
       "      <td>-0.503448</td>\n",
       "      <td>0.134597</td>\n",
       "      <td>0.077051</td>\n",
       "      <td>0.000000</td>\n",
       "      <td>0.050966</td>\n",
       "      <td>0</td>\n",
       "      <td>0.0</td>\n",
       "    </tr>\n",
       "    <tr>\n",
       "      <td>10:00:04</td>\n",
       "      <td>-0.397938</td>\n",
       "      <td>0.097669</td>\n",
       "      <td>0.077094</td>\n",
       "      <td>-0.000014</td>\n",
       "      <td>0.085395</td>\n",
       "      <td>0</td>\n",
       "      <td>0.0</td>\n",
       "    </tr>\n",
       "    <tr>\n",
       "      <td>...</td>\n",
       "      <td>...</td>\n",
       "      <td>...</td>\n",
       "      <td>...</td>\n",
       "      <td>...</td>\n",
       "      <td>...</td>\n",
       "      <td>...</td>\n",
       "      <td>...</td>\n",
       "      <td>...</td>\n",
       "    </tr>\n",
       "    <tr>\n",
       "      <td rowspan=\"5\" valign=\"top\">20200131</td>\n",
       "      <td>9:59:55</td>\n",
       "      <td>0.033195</td>\n",
       "      <td>0.010947</td>\n",
       "      <td>0.076709</td>\n",
       "      <td>-0.002951</td>\n",
       "      <td>0.003368</td>\n",
       "      <td>0</td>\n",
       "      <td>0.0</td>\n",
       "    </tr>\n",
       "    <tr>\n",
       "      <td>9:59:56</td>\n",
       "      <td>-0.228916</td>\n",
       "      <td>0.000381</td>\n",
       "      <td>0.076752</td>\n",
       "      <td>0.000001</td>\n",
       "      <td>0.000081</td>\n",
       "      <td>0</td>\n",
       "      <td>0.0</td>\n",
       "    </tr>\n",
       "    <tr>\n",
       "      <td>9:59:57</td>\n",
       "      <td>0.400000</td>\n",
       "      <td>0.000448</td>\n",
       "      <td>0.076795</td>\n",
       "      <td>0.000000</td>\n",
       "      <td>0.000000</td>\n",
       "      <td>0</td>\n",
       "      <td>0.0</td>\n",
       "    </tr>\n",
       "    <tr>\n",
       "      <td>9:59:58</td>\n",
       "      <td>-0.051724</td>\n",
       "      <td>0.000537</td>\n",
       "      <td>0.076838</td>\n",
       "      <td>0.000005</td>\n",
       "      <td>-0.000043</td>\n",
       "      <td>0</td>\n",
       "      <td>0.0</td>\n",
       "    </tr>\n",
       "    <tr>\n",
       "      <td>9:59:59</td>\n",
       "      <td>0.000000</td>\n",
       "      <td>0.000336</td>\n",
       "      <td>0.076880</td>\n",
       "      <td>-0.000010</td>\n",
       "      <td>-0.000016</td>\n",
       "      <td>0</td>\n",
       "      <td>0.0</td>\n",
       "    </tr>\n",
       "  </tbody>\n",
       "</table>\n",
       "<p>287849 rows × 7 columns</p>\n",
       "</div>"
      ],
      "text/plain": [
       "                   ask_bid_ratio  ask_bid_spread      time  ask_skew  \\\n",
       "DATE     TIME_M                                                        \n",
       "20200102 10:00:00      -0.128755        0.134638  0.076923 -0.000002   \n",
       "         10:00:01       0.022901        0.134638  0.076966 -0.000006   \n",
       "         10:00:02      -0.292308        0.134638  0.077009  0.000011   \n",
       "         10:00:03      -0.503448        0.134597  0.077051  0.000000   \n",
       "         10:00:04      -0.397938        0.097669  0.077094 -0.000014   \n",
       "...                          ...             ...       ...       ...   \n",
       "20200131 9:59:55        0.033195        0.010947  0.076709 -0.002951   \n",
       "         9:59:56       -0.228916        0.000381  0.076752  0.000001   \n",
       "         9:59:57        0.400000        0.000448  0.076795  0.000000   \n",
       "         9:59:58       -0.051724        0.000537  0.076838  0.000005   \n",
       "         9:59:59        0.000000        0.000336  0.076880 -0.000010   \n",
       "\n",
       "                   bid_skew  jump  jump_lag_1  \n",
       "DATE     TIME_M                                \n",
       "20200102 10:00:00  0.108434     0         0.0  \n",
       "         10:00:01  0.088216     0         0.0  \n",
       "         10:00:02  0.041348     0         0.0  \n",
       "         10:00:03  0.050966     0         0.0  \n",
       "         10:00:04  0.085395     0         0.0  \n",
       "...                     ...   ...         ...  \n",
       "20200131 9:59:55   0.003368     0         0.0  \n",
       "         9:59:56   0.000081     0         0.0  \n",
       "         9:59:57   0.000000     0         0.0  \n",
       "         9:59:58  -0.000043     0         0.0  \n",
       "         9:59:59  -0.000016     0         0.0  \n",
       "\n",
       "[287849 rows x 7 columns]"
      ]
     },
     "execution_count": 109,
     "metadata": {
      "tags": []
     },
     "output_type": "execute_result"
    }
   ],
   "source": [
    "df['jump_lag_1']=df['jump'].shift().fillna(0)\n",
    "df.to_csv('data.csv')\n",
    "df"
   ]
  }
 ],
 "metadata": {
  "colab": {
   "name": "data preprocessing.ipynb",
   "provenance": []
  },
  "kernelspec": {
   "display_name": "Python 3",
   "language": "python",
   "name": "python3"
  },
  "language_info": {
   "codemirror_mode": {
    "name": "ipython",
    "version": 3
   },
   "file_extension": ".py",
   "mimetype": "text/x-python",
   "name": "python",
   "nbconvert_exporter": "python",
   "pygments_lexer": "ipython3",
   "version": "3.6.6"
  }
 },
 "nbformat": 4,
 "nbformat_minor": 1
}
