{
 "cells": [
  {
   "cell_type": "code",
   "execution_count": 2,
   "metadata": {},
   "outputs": [],
   "source": [
    "# !pip install --upgrade tensorflow\n",
    "# !pip install --upgrade keras\n",
    "\n",
    "from matplotlib                 import pyplot as plt\n",
    "from sklearn.metrics            import f1_score, precision_score, recall_score, confusion_matrix\n",
    "from IPython.display            import Image\n",
    "from numpy                      import array\n",
    "import pandas as pd\n",
    "import numpy  as np\n",
    "import tensorflow as tf\n",
    "from numpy import loadtxt\n",
    "import keras\n",
    "from keras.regularizers import l2\n",
    "from keras.optimizers import Adam\n",
    "from keras.models import Sequential\n",
    "from keras.layers import Dense,BatchNormalization,Activation,Dropout,LSTM\n",
    "from keras.layers import Conv1D,MaxPooling1D,Flatten\n",
    "from keras.utils import to_categorical\n",
    "from scipy.stats import zscore"
   ]
  },
  {
   "cell_type": "code",
   "execution_count": 3,
   "metadata": {},
   "outputs": [
    {
     "name": "stderr",
     "output_type": "stream",
     "text": [
      "C:\\Users\\xxhxx\\Anaconda3\\lib\\site-packages\\numpy\\lib\\arraysetops.py:569: FutureWarning: elementwise comparison failed; returning scalar instead, but in the future will perform elementwise comparison\n",
      "  mask |= (ar1 == a)\n"
     ]
    },
    {
     "data": {
      "text/html": [
       "<div>\n",
       "<style scoped>\n",
       "    .dataframe tbody tr th:only-of-type {\n",
       "        vertical-align: middle;\n",
       "    }\n",
       "\n",
       "    .dataframe tbody tr th {\n",
       "        vertical-align: top;\n",
       "    }\n",
       "\n",
       "    .dataframe thead th {\n",
       "        text-align: right;\n",
       "    }\n",
       "</style>\n",
       "<table border=\"1\" class=\"dataframe\">\n",
       "  <thead>\n",
       "    <tr style=\"text-align: right;\">\n",
       "      <th></th>\n",
       "      <th>ask_bid_ratio</th>\n",
       "      <th>ask_bid_spread</th>\n",
       "      <th>time</th>\n",
       "      <th>ask_skew</th>\n",
       "      <th>bid_skew</th>\n",
       "      <th>jump_lag_1</th>\n",
       "    </tr>\n",
       "  </thead>\n",
       "  <tbody>\n",
       "    <tr>\n",
       "      <td>0</td>\n",
       "      <td>-0.429805</td>\n",
       "      <td>0.009028</td>\n",
       "      <td>0.076923</td>\n",
       "      <td>-0.007311</td>\n",
       "      <td>0.000589</td>\n",
       "      <td>0.0</td>\n",
       "    </tr>\n",
       "    <tr>\n",
       "      <td>1</td>\n",
       "      <td>-0.634122</td>\n",
       "      <td>0.002870</td>\n",
       "      <td>0.076966</td>\n",
       "      <td>-0.001179</td>\n",
       "      <td>0.000776</td>\n",
       "      <td>0.0</td>\n",
       "    </tr>\n",
       "    <tr>\n",
       "      <td>2</td>\n",
       "      <td>-0.580048</td>\n",
       "      <td>0.002122</td>\n",
       "      <td>0.077009</td>\n",
       "      <td>-0.000310</td>\n",
       "      <td>0.001276</td>\n",
       "      <td>0.0</td>\n",
       "    </tr>\n",
       "    <tr>\n",
       "      <td>3</td>\n",
       "      <td>-0.174566</td>\n",
       "      <td>0.001515</td>\n",
       "      <td>0.077051</td>\n",
       "      <td>-0.000516</td>\n",
       "      <td>0.000301</td>\n",
       "      <td>0.0</td>\n",
       "    </tr>\n",
       "    <tr>\n",
       "      <td>4</td>\n",
       "      <td>-0.080043</td>\n",
       "      <td>0.000927</td>\n",
       "      <td>0.077094</td>\n",
       "      <td>-0.000224</td>\n",
       "      <td>0.000058</td>\n",
       "      <td>0.0</td>\n",
       "    </tr>\n",
       "  </tbody>\n",
       "</table>\n",
       "</div>"
      ],
      "text/plain": [
       "   ask_bid_ratio  ask_bid_spread      time  ask_skew  bid_skew  jump_lag_1\n",
       "0      -0.429805        0.009028  0.076923 -0.007311  0.000589         0.0\n",
       "1      -0.634122        0.002870  0.076966 -0.001179  0.000776         0.0\n",
       "2      -0.580048        0.002122  0.077009 -0.000310  0.001276         0.0\n",
       "3      -0.174566        0.001515  0.077051 -0.000516  0.000301         0.0\n",
       "4      -0.080043        0.000927  0.077094 -0.000224  0.000058         0.0"
      ]
     },
     "execution_count": 3,
     "metadata": {},
     "output_type": "execute_result"
    }
   ],
   "source": [
    "df=pd.read_csv('general_model_train.csv',index_col=0)\n",
    "X=df.drop(['DATE','TIME_M','jump'],axis=1)\n",
    "Y=df['jump']\n",
    "X.head()"
   ]
  },
  {
   "cell_type": "code",
   "execution_count": 4,
   "metadata": {},
   "outputs": [],
   "source": [
    "X['abs_ask_bid_ratio']=abs(X['ask_bid_ratio'])\n",
    "X['abs_ask_bid_spread']=abs(X['ask_bid_spread'])\n",
    "X['abs_ask_skew']=abs(X['ask_skew'])\n",
    "X['abs_bid_skew']=abs(X['bid_skew'])"
   ]
  },
  {
   "cell_type": "code",
   "execution_count": 5,
   "metadata": {},
   "outputs": [
    {
     "data": {
      "text/plain": [
       "0.043881349533137944"
      ]
     },
     "execution_count": 5,
     "metadata": {},
     "output_type": "execute_result"
    }
   ],
   "source": [
    "X=zscore(X)\n",
    "Y=Y.values\n",
    "np.mean(Y)"
   ]
  },
  {
   "cell_type": "code",
   "execution_count": 6,
   "metadata": {},
   "outputs": [
    {
     "data": {
      "text/plain": [
       "(3610167, 3610167)"
      ]
     },
     "execution_count": 6,
     "metadata": {},
     "output_type": "execute_result"
    }
   ],
   "source": [
    "len(X),len(Y)"
   ]
  },
  {
   "cell_type": "code",
   "execution_count": 7,
   "metadata": {},
   "outputs": [
    {
     "name": "stdout",
     "output_type": "stream",
     "text": [
      "3610167 20 10\n"
     ]
    }
   ],
   "source": [
    "samples,steps,features=X.shape[0],20,X.shape[1]\n",
    "print(samples,steps,features)\n",
    "nX=np.zeros((samples-steps,steps,features))\n",
    "for i in range(steps, samples):\n",
    "    nX[i-steps] =X[i-steps:i]\n",
    "X=nX\n",
    "Y=Y[steps:]\n",
    "\n",
    "# X_train=X[:int(len(X)*0.85)]\n",
    "# Y_train=Y[:int(len(X)*0.85)]\n",
    "# X_test=X[int(len(X)*0.85):]\n",
    "# Y_test=Y[int(len(X)*0.85):]"
   ]
  },
  {
   "cell_type": "code",
   "execution_count": 20,
   "metadata": {},
   "outputs": [
    {
     "data": {
      "text/plain": [
       "((3308534, 20, 10), (3308534,))"
      ]
     },
     "execution_count": 20,
     "metadata": {},
     "output_type": "execute_result"
    }
   ],
   "source": [
    "# X_train.shape,Y_train.shape"
   ]
  },
  {
   "cell_type": "code",
   "execution_count": 21,
   "metadata": {},
   "outputs": [
    {
     "name": "stdout",
     "output_type": "stream",
     "text": [
      "Model: \"sequential_2\"\n",
      "_________________________________________________________________\n",
      "Layer (type)                 Output Shape              Param #   \n",
      "=================================================================\n",
      "conv1d_3 (Conv1D)            (None, 18, 16)            496       \n",
      "_________________________________________________________________\n",
      "max_pooling1d_3 (MaxPooling1 (None, 9, 16)             0         \n",
      "_________________________________________________________________\n",
      "dropout_5 (Dropout)          (None, 9, 16)             0         \n",
      "_________________________________________________________________\n",
      "conv1d_4 (Conv1D)            (None, 7, 16)             784       \n",
      "_________________________________________________________________\n",
      "max_pooling1d_4 (MaxPooling1 (None, 3, 16)             0         \n",
      "_________________________________________________________________\n",
      "dropout_6 (Dropout)          (None, 3, 16)             0         \n",
      "_________________________________________________________________\n",
      "flatten_2 (Flatten)          (None, 48)                0         \n",
      "_________________________________________________________________\n",
      "dense_4 (Dense)              (None, 40)                1960      \n",
      "_________________________________________________________________\n",
      "batch_normalization_3 (Batch (None, 40)                160       \n",
      "_________________________________________________________________\n",
      "activation_3 (Activation)    (None, 40)                0         \n",
      "_________________________________________________________________\n",
      "dropout_7 (Dropout)          (None, 40)                0         \n",
      "_________________________________________________________________\n",
      "dense_5 (Dense)              (None, 20)                820       \n",
      "_________________________________________________________________\n",
      "batch_normalization_4 (Batch (None, 20)                80        \n",
      "_________________________________________________________________\n",
      "activation_4 (Activation)    (None, 20)                0         \n",
      "_________________________________________________________________\n",
      "dropout_8 (Dropout)          (None, 20)                0         \n",
      "_________________________________________________________________\n",
      "dense_6 (Dense)              (None, 1)                 21        \n",
      "=================================================================\n",
      "Total params: 4,321\n",
      "Trainable params: 4,201\n",
      "Non-trainable params: 120\n",
      "_________________________________________________________________\n",
      "None\n"
     ]
    }
   ],
   "source": [
    "\n",
    "# model = Sequential()\n",
    "# model.add(Conv1D(filters=16, kernel_size=3, activation='relu', input_shape=(steps,features)))\n",
    "# model.add(MaxPooling1D())\n",
    "# model.add(Dropout(0.3))\n",
    "\n",
    "# model.add(Conv1D(filters=16, kernel_size=3, activation='relu'))\n",
    "# model.add(MaxPooling1D())\n",
    "# model.add(Dropout(0.3))\n",
    "\n",
    "\n",
    "# model.add(Flatten())\n",
    "\n",
    "# model.add(Dense(40))\n",
    "# model.add(BatchNormalization())\n",
    "# model.add(Activation('relu'))\n",
    "# model.add(Dropout(0.3))\n",
    "\n",
    "\n",
    "# model.add(Dense(20))\n",
    "# model.add(BatchNormalization())\n",
    "# model.add(Activation('relu'))\n",
    "# model.add(Dropout(0.2))\n",
    "\n",
    "\n",
    "# model.add(Dense(1, activation='sigmoid'))\n",
    "# # adam=Adam(learning_rate=0.0000)\n",
    "# model.compile(loss='binary_crossentropy', optimizer='adam',metrics=['accuracy'])\n",
    "# print(model.summary())\n"
   ]
  },
  {
   "cell_type": "code",
   "execution_count": 22,
   "metadata": {},
   "outputs": [
    {
     "name": "stdout",
     "output_type": "stream",
     "text": [
      "Epoch 1/10\n",
      "3308534/3308534 [==============================] - 78s 24us/step - loss: 0.1202 - accuracy: 0.9858\n",
      "Epoch 2/10\n",
      "3308534/3308534 [==============================] - 49s 15us/step - loss: 0.0934 - accuracy: 0.9939\n",
      "Epoch 3/10\n",
      "3308534/3308534 [==============================] - 49s 15us/step - loss: 0.0910 - accuracy: 0.9939\n",
      "Epoch 4/10\n",
      "3308534/3308534 [==============================] - 47s 14us/step - loss: 0.0897 - accuracy: 0.9939\n",
      "Epoch 5/10\n",
      "3308534/3308534 [==============================] - 46s 14us/step - loss: 0.0891 - accuracy: 0.9939\n",
      "Epoch 6/10\n",
      "3308534/3308534 [==============================] - 48s 14us/step - loss: 0.0889 - accuracy: 0.9939\n",
      "Epoch 7/10\n",
      "3308534/3308534 [==============================] - 46s 14us/step - loss: 0.0887 - accuracy: 0.9939\n",
      "Epoch 8/10\n",
      "3308534/3308534 [==============================] - 47s 14us/step - loss: 0.0886 - accuracy: 0.9939\n",
      "Epoch 9/10\n",
      "3308534/3308534 [==============================] - 47s 14us/step - loss: 0.0885 - accuracy: 0.9939\n",
      "Epoch 10/10\n",
      "3308534/3308534 [==============================] - 48s 15us/step - loss: 0.0884 - accuracy: 0.9939\n"
     ]
    },
    {
     "data": {
      "text/plain": [
       "<keras.callbacks.callbacks.History at 0x29c511f8eb8>"
      ]
     },
     "execution_count": 22,
     "metadata": {},
     "output_type": "execute_result"
    }
   ],
   "source": [
    "# class_weight={0:1,1:3}\n",
    "# model.fit(X_train,Y_train,batch_size=1000,epochs=10,class_weight={0:1,1:3},verbose=1)\n",
    "#batch size matters\n",
    "# sudden rapid drop of accuracy while training, on both training and test sets, why?"
   ]
  },
  {
   "cell_type": "code",
   "execution_count": 24,
   "metadata": {},
   "outputs": [],
   "source": [
    "# from keras.models import load_model\n",
    "# model.save('m.h5')\n",
    "# model=load_model('model_10_features.h5')"
   ]
  },
  {
   "cell_type": "code",
   "execution_count": 23,
   "metadata": {},
   "outputs": [
    {
     "name": "stdout",
     "output_type": "stream",
     "text": [
      "583859/583859 [==============================] - 15s 26us/step\n"
     ]
    },
    {
     "data": {
      "text/plain": [
       "(0.6301827541408981, [0.044070477663863176, 0.9931849837303162])"
      ]
     },
     "execution_count": 23,
     "metadata": {},
     "output_type": "execute_result"
    },
    {
     "data": {
      "image/png": "[encoded data removed]",
      "text/plain": [
       "<Figure size 432x288 with 1 Axes>"
      ]
     },
     "metadata": {},
     "output_type": "display_data"
    }
   ],
   "source": [
    "# from sklearn.metrics import roc_curve,roc_auc_score\n",
    "# fpr,tpr,thresholds=roc_curve(Y_test,model.predict(X_test))\n",
    "# plt.plot(fpr,tpr)\n",
    "# plt.plot(np.arange(0,1,0.01),np.arange(0,1,0.01))\n",
    "# roc_auc_score(Y_test,model.predict(X_test)),model.evaluate(X_test,Y_test)\n"
   ]
  },
  {
   "cell_type": "code",
   "execution_count": 8,
   "metadata": {},
   "outputs": [
    {
     "name": "stdout",
     "output_type": "stream",
     "text": [
      "WARNING:tensorflow:From C:\\Users\\xxhxx\\Anaconda3\\lib\\site-packages\\tensorflow\\python\\ops\\resource_variable_ops.py:435: colocate_with (from tensorflow.python.framework.ops) is deprecated and will be removed in a future version.\n",
      "Instructions for updating:\n",
      "Colocations handled automatically by placer.\n",
      "Model: \"sequential_1\"\n",
      "_________________________________________________________________\n",
      "Layer (type)                 Output Shape              Param #   \n",
      "=================================================================\n",
      "lstm_1 (LSTM)                (None, 20, 10)            840       \n",
      "_________________________________________________________________\n",
      "lstm_2 (LSTM)                (None, 1)                 48        \n",
      "=================================================================\n",
      "Total params: 888\n",
      "Trainable params: 888\n",
      "Non-trainable params: 0\n",
      "_________________________________________________________________\n",
      "None\n"
     ]
    }
   ],
   "source": [
    "\n",
    "model2 = Sequential()\n",
    "model2.add(LSTM(10,input_shape=(steps,features),return_sequences=True))\n",
    "model2.add(LSTM(1,input_shape=(steps,features)))\n",
    "\n",
    "model2.compile(loss='binary_crossentropy', optimizer='adam',metrics=['accuracy'])\n",
    "print(model2.summary())\n"
   ]
  },
  {
   "cell_type": "code",
   "execution_count": 9,
   "metadata": {},
   "outputs": [
    {
     "name": "stdout",
     "output_type": "stream",
     "text": [
      "WARNING:tensorflow:From C:\\Users\\xxhxx\\Anaconda3\\lib\\site-packages\\tensorflow\\python\\ops\\math_ops.py:3066: to_int32 (from tensorflow.python.ops.math_ops) is deprecated and will be removed in a future version.\n",
      "Instructions for updating:\n",
      "Use tf.cast instead.\n",
      "Epoch 1/10\n",
      "3610147/3610147 [==============================] - 90s 25us/step - loss: 0.3512 - accuracy: 0.9537\n",
      "Epoch 2/10\n",
      "3610147/3610147 [==============================] - 87s 24us/step - loss: 0.3189 - accuracy: 0.9513\n",
      "Epoch 3/10\n",
      "3610147/3610147 [==============================] - 90s 25us/step - loss: 0.3143 - accuracy: 0.9510\n",
      "Epoch 4/10\n",
      "3610147/3610147 [==============================] - 88s 24us/step - loss: 0.3102 - accuracy: 0.9506\n",
      "Epoch 5/10\n",
      "3610147/3610147 [==============================] - 88s 24us/step - loss: 0.3081 - accuracy: 0.9501\n",
      "Epoch 6/10\n",
      "3610147/3610147 [==============================] - 87s 24us/step - loss: 0.3070 - accuracy: 0.9497\n",
      "Epoch 7/10\n",
      "3610147/3610147 [==============================] - 88s 24us/step - loss: 0.3065 - accuracy: 0.9496\n",
      "Epoch 8/10\n",
      "3610147/3610147 [==============================] - 89s 25us/step - loss: 0.3059 - accuracy: 0.9495\n",
      "Epoch 9/10\n",
      "3610147/3610147 [==============================] - 88s 24us/step - loss: 0.3055 - accuracy: 0.9495\n",
      "Epoch 10/10\n",
      "3610147/3610147 [==============================] - 88s 24us/step - loss: 0.3051 - accuracy: 0.9495\n"
     ]
    },
    {
     "data": {
      "text/plain": [
       "<keras.callbacks.callbacks.History at 0x24502ec1240>"
      ]
     },
     "execution_count": 9,
     "metadata": {},
     "output_type": "execute_result"
    }
   ],
   "source": [
    "model2.fit(X,Y,batch_size=1000,epochs=10,class_weight={0:1,1:3},verbose=1)\n"
   ]
  },
  {
   "cell_type": "code",
   "execution_count": 5,
   "metadata": {},
   "outputs": [],
   "source": [
    "from keras.models import load_model\n",
    "# model2.save('m2.h5')\n",
    "model2=load_model('m2.h5')"
   ]
  },
  {
   "cell_type": "code",
   "execution_count": 3,
   "metadata": {},
   "outputs": [
    {
     "name": "stdout",
     "output_type": "stream",
     "text": [
      "529704 20 10\n"
     ]
    }
   ],
   "source": [
    "df=pd.read_csv('general_model_test.csv',index_col=0)\n",
    "X=df.drop(['DATE','TIME_M','jump'],axis=1)\n",
    "Y=df['jump']\n",
    "# X.head()\n",
    "X['abs_ask_bid_ratio']=abs(X['ask_bid_ratio'])\n",
    "X['abs_ask_bid_spread']=abs(X['ask_bid_spread'])\n",
    "X['abs_ask_skew']=abs(X['ask_skew'])\n",
    "X['abs_bid_skew']=abs(X['bid_skew'])\n",
    "X=zscore(X)\n",
    "Y=Y.values\n",
    "# np.mean(Y)\n",
    "samples,steps,features=X.shape[0],20,X.shape[1]\n",
    "print(samples,steps,features)\n",
    "nX=np.zeros((samples-steps,steps,features))\n",
    "for i in range(steps, samples):\n",
    "    nX[i-steps] =X[i-steps:i]\n",
    "X=nX\n",
    "Y=Y[steps:]\n"
   ]
  },
  {
   "cell_type": "code",
   "execution_count": null,
   "metadata": {},
   "outputs": [],
   "source": []
  },
  {
   "cell_type": "code",
   "execution_count": 6,
   "metadata": {},
   "outputs": [
    {
     "name": "stdout",
     "output_type": "stream",
     "text": [
      "529684/529684 [==============================] - 52s 98us/step\n"
     ]
    },
    {
     "data": {
      "text/plain": [
       "(0.7772620903955637, [0.08741763246252905, 0.9737145304679871])"
      ]
     },
     "execution_count": 6,
     "metadata": {},
     "output_type": "execute_result"
    },
    {
     "data": {
      "image/png": "[encoded data removed]",
      "text/plain": [
       "<Figure size 432x288 with 1 Axes>"
      ]
     },
     "metadata": {},
     "output_type": "display_data"
    }
   ],
   "source": [
    "from sklearn.metrics import roc_curve,roc_auc_score\n",
    "fpr,tpr,thresholds=roc_curve(Y,model2.predict(X))\n",
    "plt.plot(fpr,tpr)\n",
    "plt.plot(np.arange(0,1,0.01),np.arange(0,1,0.01))\n",
    "roc_auc_score(Y,model2.predict(X)),model2.evaluate(X,Y)\n"
   ]
  },
  {
   "cell_type": "code",
   "execution_count": null,
   "metadata": {},
   "outputs": [],
   "source": []
  },
  {
   "cell_type": "code",
   "execution_count": null,
   "metadata": {},
   "outputs": [],
   "source": []
  }
 ],
 "metadata": {
  "kernelspec": {
   "display_name": "Python 3",
   "language": "python",
   "name": "python3"
  },
  "language_info": {
   "codemirror_mode": {
    "name": "ipython",
    "version": 3
   },
   "file_extension": ".py",
   "mimetype": "text/x-python",
   "name": "python",
   "nbconvert_exporter": "python",
   "pygments_lexer": "ipython3",
   "version": "3.6.5"
  }
 },
 "nbformat": 4,
 "nbformat_minor": 2
}
